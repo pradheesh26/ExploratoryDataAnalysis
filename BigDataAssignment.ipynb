{
  "nbformat": 4,
  "nbformat_minor": 0,
  "metadata": {
    "colab": {
      "provenance": [],
      "collapsed_sections": []
    },
    "kernelspec": {
      "name": "python3",
      "display_name": "Python 3"
    },
    "language_info": {
      "name": "python"
    }
  },
  "cells": [
    {
      "cell_type": "code",
      "execution_count": null,
      "metadata": {
        "id": "83kmNhoeXzxY"
      },
      "outputs": [],
      "source": [
        "import pandas as pd\n",
        "import numpy as np\n",
        "import matplotlib.pyplot as plt\n",
        "x = pd.read_csv('/content/Highest Holywood Grossing Movies.csv',index_col=0,na_values=['??','###','????'])\n",
        "x.dropna(axis=0,inplace=True)"
      ]
    },
    {
      "cell_type": "code",
      "source": [
        "import statistics"
      ],
      "metadata": {
        "id": "Sru1lC2ouhHI"
      },
      "execution_count": null,
      "outputs": []
    },
    {
      "cell_type": "code",
      "source": [
        "x"
      ],
      "metadata": {
        "colab": {
          "base_uri": "https://localhost:8080/",
          "height": 901
        },
        "id": "-rBNm-PsYhc6",
        "outputId": "40fface4-e0ed-4791-baa6-87fae38a999c"
      },
      "execution_count": null,
      "outputs": [
        {
          "output_type": "execute_result",
          "data": {
            "text/plain": [
              "                                                 Title  \\\n",
              "0    Star Wars: Episode VII - The Force Awakens (2015)   \n",
              "1                             Avengers: Endgame (2019)   \n",
              "2                                        Avatar (2009)   \n",
              "6                                       Titanic (1997)   \n",
              "7                                Jurassic World (2015)   \n",
              "..                                                 ...   \n",
              "911                     While You Were Sleeping (1995)   \n",
              "913                                The Notebook (2004)   \n",
              "915                               Eat Pray Love (2010)   \n",
              "916                 The Texas Chainsaw Massacre (2003)   \n",
              "917                                   Zookeeper (2011)   \n",
              "\n",
              "                                            Movie Info  \\\n",
              "0    As a new threat to the galaxy rises, Rey, a de...   \n",
              "1    After the devastating events of Avengers: Infi...   \n",
              "2    A paraplegic Marine dispatched to the moon Pan...   \n",
              "6    A seventeen-year-old aristocrat falls in love ...   \n",
              "7    A new theme park, built on the original site o...   \n",
              "..                                                 ...   \n",
              "911  A hopelessly romantic Chicago Transit Authorit...   \n",
              "913  A poor yet passionate young man falls in love ...   \n",
              "915  A married woman realizes how unhappy her marri...   \n",
              "916  After picking up a traumatized young hitchhike...   \n",
              "917  A group of zoo animals decide to break their c...   \n",
              "\n",
              "                             Distributor       Release Date  \\\n",
              "0    Walt Disney Studios Motion Pictures  December 16, 2015   \n",
              "1    Walt Disney Studios Motion Pictures     April 24, 2019   \n",
              "2                  Twentieth Century Fox  December 16, 2009   \n",
              "6                     Paramount Pictures  December 19, 1997   \n",
              "7                     Universal Pictures      June 10, 2015   \n",
              "..                                   ...                ...   \n",
              "911  Walt Disney Studios Motion Pictures     April 21, 1995   \n",
              "913                      New Line Cinema      June 25, 2004   \n",
              "915    Sony Pictures Entertainment (SPE)    August 13, 2010   \n",
              "916                      New Line Cinema   October 17, 2003   \n",
              "917    Sony Pictures Entertainment (SPE)       July 6, 2011   \n",
              "\n",
              "     Domestic Sales (in $)  International Sales (in $)  World Sales (in $)  \\\n",
              "0                936662225                  1132859475          2069521700   \n",
              "1                858373000                  1939128328          2797501328   \n",
              "2                760507625                  2086738578          2847246203   \n",
              "6                659363944                  1542283320          2201647264   \n",
              "7                652385625                  1018130819          1670516444   \n",
              "..                     ...                         ...                 ...   \n",
              "911               81057016                   101000000           182057016   \n",
              "913               81001787                    36813370           117815157   \n",
              "915               80574010                   124020006           204594016   \n",
              "916               80571655                    26792250           107363905   \n",
              "917               80360843                    89491916           169852759   \n",
              "\n",
              "                                            Genre Movie Runtime License  \n",
              "0               ['Action', 'Adventure', 'Sci-Fi']   2 hr 18 min   PG-13  \n",
              "1      ['Action', 'Adventure', 'Drama', 'Sci-Fi']    3 hr 1 min   PG-13  \n",
              "2    ['Action', 'Adventure', 'Fantasy', 'Sci-Fi']   2 hr 42 min   PG-13  \n",
              "6                            ['Drama', 'Romance']   3 hr 14 min   PG-13  \n",
              "7               ['Action', 'Adventure', 'Sci-Fi']    2 hr 4 min   PG-13  \n",
              "..                                            ...           ...     ...  \n",
              "911                ['Comedy', 'Drama', 'Romance']   1 hr 43 min      PG  \n",
              "913                          ['Drama', 'Romance']    2 hr 3 min   PG-13  \n",
              "915             ['Biography', 'Drama', 'Romance']   2 hr 13 min   PG-13  \n",
              "916                           ['Crime', 'Horror']   1 hr 38 min       R  \n",
              "917    ['Comedy', 'Family', 'Fantasy', 'Romance']   1 hr 42 min      PG  \n",
              "\n",
              "[744 rows x 10 columns]"
            ],
            "text/html": [
              "\n",
              "  <div id=\"df-9b06690b-1f94-4f6d-8c9e-a95531ff9674\">\n",
              "    <div class=\"colab-df-container\">\n",
              "      <div>\n",
              "<style scoped>\n",
              "    .dataframe tbody tr th:only-of-type {\n",
              "        vertical-align: middle;\n",
              "    }\n",
              "\n",
              "    .dataframe tbody tr th {\n",
              "        vertical-align: top;\n",
              "    }\n",
              "\n",
              "    .dataframe thead th {\n",
              "        text-align: right;\n",
              "    }\n",
              "</style>\n",
              "<table border=\"1\" class=\"dataframe\">\n",
              "  <thead>\n",
              "    <tr style=\"text-align: right;\">\n",
              "      <th></th>\n",
              "      <th>Title</th>\n",
              "      <th>Movie Info</th>\n",
              "      <th>Distributor</th>\n",
              "      <th>Release Date</th>\n",
              "      <th>Domestic Sales (in $)</th>\n",
              "      <th>International Sales (in $)</th>\n",
              "      <th>World Sales (in $)</th>\n",
              "      <th>Genre</th>\n",
              "      <th>Movie Runtime</th>\n",
              "      <th>License</th>\n",
              "    </tr>\n",
              "  </thead>\n",
              "  <tbody>\n",
              "    <tr>\n",
              "      <th>0</th>\n",
              "      <td>Star Wars: Episode VII - The Force Awakens (2015)</td>\n",
              "      <td>As a new threat to the galaxy rises, Rey, a de...</td>\n",
              "      <td>Walt Disney Studios Motion Pictures</td>\n",
              "      <td>December 16, 2015</td>\n",
              "      <td>936662225</td>\n",
              "      <td>1132859475</td>\n",
              "      <td>2069521700</td>\n",
              "      <td>['Action', 'Adventure', 'Sci-Fi']</td>\n",
              "      <td>2 hr 18 min</td>\n",
              "      <td>PG-13</td>\n",
              "    </tr>\n",
              "    <tr>\n",
              "      <th>1</th>\n",
              "      <td>Avengers: Endgame (2019)</td>\n",
              "      <td>After the devastating events of Avengers: Infi...</td>\n",
              "      <td>Walt Disney Studios Motion Pictures</td>\n",
              "      <td>April 24, 2019</td>\n",
              "      <td>858373000</td>\n",
              "      <td>1939128328</td>\n",
              "      <td>2797501328</td>\n",
              "      <td>['Action', 'Adventure', 'Drama', 'Sci-Fi']</td>\n",
              "      <td>3 hr 1 min</td>\n",
              "      <td>PG-13</td>\n",
              "    </tr>\n",
              "    <tr>\n",
              "      <th>2</th>\n",
              "      <td>Avatar (2009)</td>\n",
              "      <td>A paraplegic Marine dispatched to the moon Pan...</td>\n",
              "      <td>Twentieth Century Fox</td>\n",
              "      <td>December 16, 2009</td>\n",
              "      <td>760507625</td>\n",
              "      <td>2086738578</td>\n",
              "      <td>2847246203</td>\n",
              "      <td>['Action', 'Adventure', 'Fantasy', 'Sci-Fi']</td>\n",
              "      <td>2 hr 42 min</td>\n",
              "      <td>PG-13</td>\n",
              "    </tr>\n",
              "    <tr>\n",
              "      <th>6</th>\n",
              "      <td>Titanic (1997)</td>\n",
              "      <td>A seventeen-year-old aristocrat falls in love ...</td>\n",
              "      <td>Paramount Pictures</td>\n",
              "      <td>December 19, 1997</td>\n",
              "      <td>659363944</td>\n",
              "      <td>1542283320</td>\n",
              "      <td>2201647264</td>\n",
              "      <td>['Drama', 'Romance']</td>\n",
              "      <td>3 hr 14 min</td>\n",
              "      <td>PG-13</td>\n",
              "    </tr>\n",
              "    <tr>\n",
              "      <th>7</th>\n",
              "      <td>Jurassic World (2015)</td>\n",
              "      <td>A new theme park, built on the original site o...</td>\n",
              "      <td>Universal Pictures</td>\n",
              "      <td>June 10, 2015</td>\n",
              "      <td>652385625</td>\n",
              "      <td>1018130819</td>\n",
              "      <td>1670516444</td>\n",
              "      <td>['Action', 'Adventure', 'Sci-Fi']</td>\n",
              "      <td>2 hr 4 min</td>\n",
              "      <td>PG-13</td>\n",
              "    </tr>\n",
              "    <tr>\n",
              "      <th>...</th>\n",
              "      <td>...</td>\n",
              "      <td>...</td>\n",
              "      <td>...</td>\n",
              "      <td>...</td>\n",
              "      <td>...</td>\n",
              "      <td>...</td>\n",
              "      <td>...</td>\n",
              "      <td>...</td>\n",
              "      <td>...</td>\n",
              "      <td>...</td>\n",
              "    </tr>\n",
              "    <tr>\n",
              "      <th>911</th>\n",
              "      <td>While You Were Sleeping (1995)</td>\n",
              "      <td>A hopelessly romantic Chicago Transit Authorit...</td>\n",
              "      <td>Walt Disney Studios Motion Pictures</td>\n",
              "      <td>April 21, 1995</td>\n",
              "      <td>81057016</td>\n",
              "      <td>101000000</td>\n",
              "      <td>182057016</td>\n",
              "      <td>['Comedy', 'Drama', 'Romance']</td>\n",
              "      <td>1 hr 43 min</td>\n",
              "      <td>PG</td>\n",
              "    </tr>\n",
              "    <tr>\n",
              "      <th>913</th>\n",
              "      <td>The Notebook (2004)</td>\n",
              "      <td>A poor yet passionate young man falls in love ...</td>\n",
              "      <td>New Line Cinema</td>\n",
              "      <td>June 25, 2004</td>\n",
              "      <td>81001787</td>\n",
              "      <td>36813370</td>\n",
              "      <td>117815157</td>\n",
              "      <td>['Drama', 'Romance']</td>\n",
              "      <td>2 hr 3 min</td>\n",
              "      <td>PG-13</td>\n",
              "    </tr>\n",
              "    <tr>\n",
              "      <th>915</th>\n",
              "      <td>Eat Pray Love (2010)</td>\n",
              "      <td>A married woman realizes how unhappy her marri...</td>\n",
              "      <td>Sony Pictures Entertainment (SPE)</td>\n",
              "      <td>August 13, 2010</td>\n",
              "      <td>80574010</td>\n",
              "      <td>124020006</td>\n",
              "      <td>204594016</td>\n",
              "      <td>['Biography', 'Drama', 'Romance']</td>\n",
              "      <td>2 hr 13 min</td>\n",
              "      <td>PG-13</td>\n",
              "    </tr>\n",
              "    <tr>\n",
              "      <th>916</th>\n",
              "      <td>The Texas Chainsaw Massacre (2003)</td>\n",
              "      <td>After picking up a traumatized young hitchhike...</td>\n",
              "      <td>New Line Cinema</td>\n",
              "      <td>October 17, 2003</td>\n",
              "      <td>80571655</td>\n",
              "      <td>26792250</td>\n",
              "      <td>107363905</td>\n",
              "      <td>['Crime', 'Horror']</td>\n",
              "      <td>1 hr 38 min</td>\n",
              "      <td>R</td>\n",
              "    </tr>\n",
              "    <tr>\n",
              "      <th>917</th>\n",
              "      <td>Zookeeper (2011)</td>\n",
              "      <td>A group of zoo animals decide to break their c...</td>\n",
              "      <td>Sony Pictures Entertainment (SPE)</td>\n",
              "      <td>July 6, 2011</td>\n",
              "      <td>80360843</td>\n",
              "      <td>89491916</td>\n",
              "      <td>169852759</td>\n",
              "      <td>['Comedy', 'Family', 'Fantasy', 'Romance']</td>\n",
              "      <td>1 hr 42 min</td>\n",
              "      <td>PG</td>\n",
              "    </tr>\n",
              "  </tbody>\n",
              "</table>\n",
              "<p>744 rows × 10 columns</p>\n",
              "</div>\n",
              "      <button class=\"colab-df-convert\" onclick=\"convertToInteractive('df-9b06690b-1f94-4f6d-8c9e-a95531ff9674')\"\n",
              "              title=\"Convert this dataframe to an interactive table.\"\n",
              "              style=\"display:none;\">\n",
              "        \n",
              "  <svg xmlns=\"http://www.w3.org/2000/svg\" height=\"24px\"viewBox=\"0 0 24 24\"\n",
              "       width=\"24px\">\n",
              "    <path d=\"M0 0h24v24H0V0z\" fill=\"none\"/>\n",
              "    <path d=\"M18.56 5.44l.94 2.06.94-2.06 2.06-.94-2.06-.94-.94-2.06-.94 2.06-2.06.94zm-11 1L8.5 8.5l.94-2.06 2.06-.94-2.06-.94L8.5 2.5l-.94 2.06-2.06.94zm10 10l.94 2.06.94-2.06 2.06-.94-2.06-.94-.94-2.06-.94 2.06-2.06.94z\"/><path d=\"M17.41 7.96l-1.37-1.37c-.4-.4-.92-.59-1.43-.59-.52 0-1.04.2-1.43.59L10.3 9.45l-7.72 7.72c-.78.78-.78 2.05 0 2.83L4 21.41c.39.39.9.59 1.41.59.51 0 1.02-.2 1.41-.59l7.78-7.78 2.81-2.81c.8-.78.8-2.07 0-2.86zM5.41 20L4 18.59l7.72-7.72 1.47 1.35L5.41 20z\"/>\n",
              "  </svg>\n",
              "      </button>\n",
              "      \n",
              "  <style>\n",
              "    .colab-df-container {\n",
              "      display:flex;\n",
              "      flex-wrap:wrap;\n",
              "      gap: 12px;\n",
              "    }\n",
              "\n",
              "    .colab-df-convert {\n",
              "      background-color: #E8F0FE;\n",
              "      border: none;\n",
              "      border-radius: 50%;\n",
              "      cursor: pointer;\n",
              "      display: none;\n",
              "      fill: #1967D2;\n",
              "      height: 32px;\n",
              "      padding: 0 0 0 0;\n",
              "      width: 32px;\n",
              "    }\n",
              "\n",
              "    .colab-df-convert:hover {\n",
              "      background-color: #E2EBFA;\n",
              "      box-shadow: 0px 1px 2px rgba(60, 64, 67, 0.3), 0px 1px 3px 1px rgba(60, 64, 67, 0.15);\n",
              "      fill: #174EA6;\n",
              "    }\n",
              "\n",
              "    [theme=dark] .colab-df-convert {\n",
              "      background-color: #3B4455;\n",
              "      fill: #D2E3FC;\n",
              "    }\n",
              "\n",
              "    [theme=dark] .colab-df-convert:hover {\n",
              "      background-color: #434B5C;\n",
              "      box-shadow: 0px 1px 3px 1px rgba(0, 0, 0, 0.15);\n",
              "      filter: drop-shadow(0px 1px 2px rgba(0, 0, 0, 0.3));\n",
              "      fill: #FFFFFF;\n",
              "    }\n",
              "  </style>\n",
              "\n",
              "      <script>\n",
              "        const buttonEl =\n",
              "          document.querySelector('#df-9b06690b-1f94-4f6d-8c9e-a95531ff9674 button.colab-df-convert');\n",
              "        buttonEl.style.display =\n",
              "          google.colab.kernel.accessAllowed ? 'block' : 'none';\n",
              "\n",
              "        async function convertToInteractive(key) {\n",
              "          const element = document.querySelector('#df-9b06690b-1f94-4f6d-8c9e-a95531ff9674');\n",
              "          const dataTable =\n",
              "            await google.colab.kernel.invokeFunction('convertToInteractive',\n",
              "                                                     [key], {});\n",
              "          if (!dataTable) return;\n",
              "\n",
              "          const docLinkHtml = 'Like what you see? Visit the ' +\n",
              "            '<a target=\"_blank\" href=https://colab.research.google.com/notebooks/data_table.ipynb>data table notebook</a>'\n",
              "            + ' to learn more about interactive tables.';\n",
              "          element.innerHTML = '';\n",
              "          dataTable['output_type'] = 'display_data';\n",
              "          await google.colab.output.renderOutput(dataTable, element);\n",
              "          const docLink = document.createElement('div');\n",
              "          docLink.innerHTML = docLinkHtml;\n",
              "          element.appendChild(docLink);\n",
              "        }\n",
              "      </script>\n",
              "    </div>\n",
              "  </div>\n",
              "  "
            ]
          },
          "metadata": {},
          "execution_count": 4
        }
      ]
    },
    {
      "cell_type": "code",
      "source": [
        "x.drop(['License'],axis=1)"
      ],
      "metadata": {
        "colab": {
          "base_uri": "https://localhost:8080/",
          "height": 849
        },
        "id": "PPd55SlgTNJt",
        "outputId": "5e1ec7a4-6b5f-4d08-ff06-e4f624812ed6"
      },
      "execution_count": null,
      "outputs": [
        {
          "output_type": "execute_result",
          "data": {
            "text/plain": [
              "                                                 Title  \\\n",
              "0    Star Wars: Episode VII - The Force Awakens (2015)   \n",
              "1                             Avengers: Endgame (2019)   \n",
              "2                                        Avatar (2009)   \n",
              "6                                       Titanic (1997)   \n",
              "7                                Jurassic World (2015)   \n",
              "..                                                 ...   \n",
              "911                     While You Were Sleeping (1995)   \n",
              "913                                The Notebook (2004)   \n",
              "915                               Eat Pray Love (2010)   \n",
              "916                 The Texas Chainsaw Massacre (2003)   \n",
              "917                                   Zookeeper (2011)   \n",
              "\n",
              "                                            Movie Info  \\\n",
              "0    As a new threat to the galaxy rises, Rey, a de...   \n",
              "1    After the devastating events of Avengers: Infi...   \n",
              "2    A paraplegic Marine dispatched to the moon Pan...   \n",
              "6    A seventeen-year-old aristocrat falls in love ...   \n",
              "7    A new theme park, built on the original site o...   \n",
              "..                                                 ...   \n",
              "911  A hopelessly romantic Chicago Transit Authorit...   \n",
              "913  A poor yet passionate young man falls in love ...   \n",
              "915  A married woman realizes how unhappy her marri...   \n",
              "916  After picking up a traumatized young hitchhike...   \n",
              "917  A group of zoo animals decide to break their c...   \n",
              "\n",
              "                             Distributor       Release Date  \\\n",
              "0    Walt Disney Studios Motion Pictures  December 16, 2015   \n",
              "1    Walt Disney Studios Motion Pictures     April 24, 2019   \n",
              "2                  Twentieth Century Fox  December 16, 2009   \n",
              "6                     Paramount Pictures  December 19, 1997   \n",
              "7                     Universal Pictures      June 10, 2015   \n",
              "..                                   ...                ...   \n",
              "911  Walt Disney Studios Motion Pictures     April 21, 1995   \n",
              "913                      New Line Cinema      June 25, 2004   \n",
              "915    Sony Pictures Entertainment (SPE)    August 13, 2010   \n",
              "916                      New Line Cinema   October 17, 2003   \n",
              "917    Sony Pictures Entertainment (SPE)       July 6, 2011   \n",
              "\n",
              "     Domestic Sales (in $)  International Sales (in $)  World Sales (in $)  \\\n",
              "0                936662225                  1132859475          2069521700   \n",
              "1                858373000                  1939128328          2797501328   \n",
              "2                760507625                  2086738578          2847246203   \n",
              "6                659363944                  1542283320          2201647264   \n",
              "7                652385625                  1018130819          1670516444   \n",
              "..                     ...                         ...                 ...   \n",
              "911               81057016                   101000000           182057016   \n",
              "913               81001787                    36813370           117815157   \n",
              "915               80574010                   124020006           204594016   \n",
              "916               80571655                    26792250           107363905   \n",
              "917               80360843                    89491916           169852759   \n",
              "\n",
              "                                            Genre Movie Runtime  \n",
              "0               ['Action', 'Adventure', 'Sci-Fi']   2 hr 18 min  \n",
              "1      ['Action', 'Adventure', 'Drama', 'Sci-Fi']    3 hr 1 min  \n",
              "2    ['Action', 'Adventure', 'Fantasy', 'Sci-Fi']   2 hr 42 min  \n",
              "6                            ['Drama', 'Romance']   3 hr 14 min  \n",
              "7               ['Action', 'Adventure', 'Sci-Fi']    2 hr 4 min  \n",
              "..                                            ...           ...  \n",
              "911                ['Comedy', 'Drama', 'Romance']   1 hr 43 min  \n",
              "913                          ['Drama', 'Romance']    2 hr 3 min  \n",
              "915             ['Biography', 'Drama', 'Romance']   2 hr 13 min  \n",
              "916                           ['Crime', 'Horror']   1 hr 38 min  \n",
              "917    ['Comedy', 'Family', 'Fantasy', 'Romance']   1 hr 42 min  \n",
              "\n",
              "[744 rows x 9 columns]"
            ],
            "text/html": [
              "\n",
              "  <div id=\"df-175514d8-27bf-4942-8f58-5e10be518e05\">\n",
              "    <div class=\"colab-df-container\">\n",
              "      <div>\n",
              "<style scoped>\n",
              "    .dataframe tbody tr th:only-of-type {\n",
              "        vertical-align: middle;\n",
              "    }\n",
              "\n",
              "    .dataframe tbody tr th {\n",
              "        vertical-align: top;\n",
              "    }\n",
              "\n",
              "    .dataframe thead th {\n",
              "        text-align: right;\n",
              "    }\n",
              "</style>\n",
              "<table border=\"1\" class=\"dataframe\">\n",
              "  <thead>\n",
              "    <tr style=\"text-align: right;\">\n",
              "      <th></th>\n",
              "      <th>Title</th>\n",
              "      <th>Movie Info</th>\n",
              "      <th>Distributor</th>\n",
              "      <th>Release Date</th>\n",
              "      <th>Domestic Sales (in $)</th>\n",
              "      <th>International Sales (in $)</th>\n",
              "      <th>World Sales (in $)</th>\n",
              "      <th>Genre</th>\n",
              "      <th>Movie Runtime</th>\n",
              "    </tr>\n",
              "  </thead>\n",
              "  <tbody>\n",
              "    <tr>\n",
              "      <th>0</th>\n",
              "      <td>Star Wars: Episode VII - The Force Awakens (2015)</td>\n",
              "      <td>As a new threat to the galaxy rises, Rey, a de...</td>\n",
              "      <td>Walt Disney Studios Motion Pictures</td>\n",
              "      <td>December 16, 2015</td>\n",
              "      <td>936662225</td>\n",
              "      <td>1132859475</td>\n",
              "      <td>2069521700</td>\n",
              "      <td>['Action', 'Adventure', 'Sci-Fi']</td>\n",
              "      <td>2 hr 18 min</td>\n",
              "    </tr>\n",
              "    <tr>\n",
              "      <th>1</th>\n",
              "      <td>Avengers: Endgame (2019)</td>\n",
              "      <td>After the devastating events of Avengers: Infi...</td>\n",
              "      <td>Walt Disney Studios Motion Pictures</td>\n",
              "      <td>April 24, 2019</td>\n",
              "      <td>858373000</td>\n",
              "      <td>1939128328</td>\n",
              "      <td>2797501328</td>\n",
              "      <td>['Action', 'Adventure', 'Drama', 'Sci-Fi']</td>\n",
              "      <td>3 hr 1 min</td>\n",
              "    </tr>\n",
              "    <tr>\n",
              "      <th>2</th>\n",
              "      <td>Avatar (2009)</td>\n",
              "      <td>A paraplegic Marine dispatched to the moon Pan...</td>\n",
              "      <td>Twentieth Century Fox</td>\n",
              "      <td>December 16, 2009</td>\n",
              "      <td>760507625</td>\n",
              "      <td>2086738578</td>\n",
              "      <td>2847246203</td>\n",
              "      <td>['Action', 'Adventure', 'Fantasy', 'Sci-Fi']</td>\n",
              "      <td>2 hr 42 min</td>\n",
              "    </tr>\n",
              "    <tr>\n",
              "      <th>6</th>\n",
              "      <td>Titanic (1997)</td>\n",
              "      <td>A seventeen-year-old aristocrat falls in love ...</td>\n",
              "      <td>Paramount Pictures</td>\n",
              "      <td>December 19, 1997</td>\n",
              "      <td>659363944</td>\n",
              "      <td>1542283320</td>\n",
              "      <td>2201647264</td>\n",
              "      <td>['Drama', 'Romance']</td>\n",
              "      <td>3 hr 14 min</td>\n",
              "    </tr>\n",
              "    <tr>\n",
              "      <th>7</th>\n",
              "      <td>Jurassic World (2015)</td>\n",
              "      <td>A new theme park, built on the original site o...</td>\n",
              "      <td>Universal Pictures</td>\n",
              "      <td>June 10, 2015</td>\n",
              "      <td>652385625</td>\n",
              "      <td>1018130819</td>\n",
              "      <td>1670516444</td>\n",
              "      <td>['Action', 'Adventure', 'Sci-Fi']</td>\n",
              "      <td>2 hr 4 min</td>\n",
              "    </tr>\n",
              "    <tr>\n",
              "      <th>...</th>\n",
              "      <td>...</td>\n",
              "      <td>...</td>\n",
              "      <td>...</td>\n",
              "      <td>...</td>\n",
              "      <td>...</td>\n",
              "      <td>...</td>\n",
              "      <td>...</td>\n",
              "      <td>...</td>\n",
              "      <td>...</td>\n",
              "    </tr>\n",
              "    <tr>\n",
              "      <th>911</th>\n",
              "      <td>While You Were Sleeping (1995)</td>\n",
              "      <td>A hopelessly romantic Chicago Transit Authorit...</td>\n",
              "      <td>Walt Disney Studios Motion Pictures</td>\n",
              "      <td>April 21, 1995</td>\n",
              "      <td>81057016</td>\n",
              "      <td>101000000</td>\n",
              "      <td>182057016</td>\n",
              "      <td>['Comedy', 'Drama', 'Romance']</td>\n",
              "      <td>1 hr 43 min</td>\n",
              "    </tr>\n",
              "    <tr>\n",
              "      <th>913</th>\n",
              "      <td>The Notebook (2004)</td>\n",
              "      <td>A poor yet passionate young man falls in love ...</td>\n",
              "      <td>New Line Cinema</td>\n",
              "      <td>June 25, 2004</td>\n",
              "      <td>81001787</td>\n",
              "      <td>36813370</td>\n",
              "      <td>117815157</td>\n",
              "      <td>['Drama', 'Romance']</td>\n",
              "      <td>2 hr 3 min</td>\n",
              "    </tr>\n",
              "    <tr>\n",
              "      <th>915</th>\n",
              "      <td>Eat Pray Love (2010)</td>\n",
              "      <td>A married woman realizes how unhappy her marri...</td>\n",
              "      <td>Sony Pictures Entertainment (SPE)</td>\n",
              "      <td>August 13, 2010</td>\n",
              "      <td>80574010</td>\n",
              "      <td>124020006</td>\n",
              "      <td>204594016</td>\n",
              "      <td>['Biography', 'Drama', 'Romance']</td>\n",
              "      <td>2 hr 13 min</td>\n",
              "    </tr>\n",
              "    <tr>\n",
              "      <th>916</th>\n",
              "      <td>The Texas Chainsaw Massacre (2003)</td>\n",
              "      <td>After picking up a traumatized young hitchhike...</td>\n",
              "      <td>New Line Cinema</td>\n",
              "      <td>October 17, 2003</td>\n",
              "      <td>80571655</td>\n",
              "      <td>26792250</td>\n",
              "      <td>107363905</td>\n",
              "      <td>['Crime', 'Horror']</td>\n",
              "      <td>1 hr 38 min</td>\n",
              "    </tr>\n",
              "    <tr>\n",
              "      <th>917</th>\n",
              "      <td>Zookeeper (2011)</td>\n",
              "      <td>A group of zoo animals decide to break their c...</td>\n",
              "      <td>Sony Pictures Entertainment (SPE)</td>\n",
              "      <td>July 6, 2011</td>\n",
              "      <td>80360843</td>\n",
              "      <td>89491916</td>\n",
              "      <td>169852759</td>\n",
              "      <td>['Comedy', 'Family', 'Fantasy', 'Romance']</td>\n",
              "      <td>1 hr 42 min</td>\n",
              "    </tr>\n",
              "  </tbody>\n",
              "</table>\n",
              "<p>744 rows × 9 columns</p>\n",
              "</div>\n",
              "      <button class=\"colab-df-convert\" onclick=\"convertToInteractive('df-175514d8-27bf-4942-8f58-5e10be518e05')\"\n",
              "              title=\"Convert this dataframe to an interactive table.\"\n",
              "              style=\"display:none;\">\n",
              "        \n",
              "  <svg xmlns=\"http://www.w3.org/2000/svg\" height=\"24px\"viewBox=\"0 0 24 24\"\n",
              "       width=\"24px\">\n",
              "    <path d=\"M0 0h24v24H0V0z\" fill=\"none\"/>\n",
              "    <path d=\"M18.56 5.44l.94 2.06.94-2.06 2.06-.94-2.06-.94-.94-2.06-.94 2.06-2.06.94zm-11 1L8.5 8.5l.94-2.06 2.06-.94-2.06-.94L8.5 2.5l-.94 2.06-2.06.94zm10 10l.94 2.06.94-2.06 2.06-.94-2.06-.94-.94-2.06-.94 2.06-2.06.94z\"/><path d=\"M17.41 7.96l-1.37-1.37c-.4-.4-.92-.59-1.43-.59-.52 0-1.04.2-1.43.59L10.3 9.45l-7.72 7.72c-.78.78-.78 2.05 0 2.83L4 21.41c.39.39.9.59 1.41.59.51 0 1.02-.2 1.41-.59l7.78-7.78 2.81-2.81c.8-.78.8-2.07 0-2.86zM5.41 20L4 18.59l7.72-7.72 1.47 1.35L5.41 20z\"/>\n",
              "  </svg>\n",
              "      </button>\n",
              "      \n",
              "  <style>\n",
              "    .colab-df-container {\n",
              "      display:flex;\n",
              "      flex-wrap:wrap;\n",
              "      gap: 12px;\n",
              "    }\n",
              "\n",
              "    .colab-df-convert {\n",
              "      background-color: #E8F0FE;\n",
              "      border: none;\n",
              "      border-radius: 50%;\n",
              "      cursor: pointer;\n",
              "      display: none;\n",
              "      fill: #1967D2;\n",
              "      height: 32px;\n",
              "      padding: 0 0 0 0;\n",
              "      width: 32px;\n",
              "    }\n",
              "\n",
              "    .colab-df-convert:hover {\n",
              "      background-color: #E2EBFA;\n",
              "      box-shadow: 0px 1px 2px rgba(60, 64, 67, 0.3), 0px 1px 3px 1px rgba(60, 64, 67, 0.15);\n",
              "      fill: #174EA6;\n",
              "    }\n",
              "\n",
              "    [theme=dark] .colab-df-convert {\n",
              "      background-color: #3B4455;\n",
              "      fill: #D2E3FC;\n",
              "    }\n",
              "\n",
              "    [theme=dark] .colab-df-convert:hover {\n",
              "      background-color: #434B5C;\n",
              "      box-shadow: 0px 1px 3px 1px rgba(0, 0, 0, 0.15);\n",
              "      filter: drop-shadow(0px 1px 2px rgba(0, 0, 0, 0.3));\n",
              "      fill: #FFFFFF;\n",
              "    }\n",
              "  </style>\n",
              "\n",
              "      <script>\n",
              "        const buttonEl =\n",
              "          document.querySelector('#df-175514d8-27bf-4942-8f58-5e10be518e05 button.colab-df-convert');\n",
              "        buttonEl.style.display =\n",
              "          google.colab.kernel.accessAllowed ? 'block' : 'none';\n",
              "\n",
              "        async function convertToInteractive(key) {\n",
              "          const element = document.querySelector('#df-175514d8-27bf-4942-8f58-5e10be518e05');\n",
              "          const dataTable =\n",
              "            await google.colab.kernel.invokeFunction('convertToInteractive',\n",
              "                                                     [key], {});\n",
              "          if (!dataTable) return;\n",
              "\n",
              "          const docLinkHtml = 'Like what you see? Visit the ' +\n",
              "            '<a target=\"_blank\" href=https://colab.research.google.com/notebooks/data_table.ipynb>data table notebook</a>'\n",
              "            + ' to learn more about interactive tables.';\n",
              "          element.innerHTML = '';\n",
              "          dataTable['output_type'] = 'display_data';\n",
              "          await google.colab.output.renderOutput(dataTable, element);\n",
              "          const docLink = document.createElement('div');\n",
              "          docLink.innerHTML = docLinkHtml;\n",
              "          element.appendChild(docLink);\n",
              "        }\n",
              "      </script>\n",
              "    </div>\n",
              "  </div>\n",
              "  "
            ]
          },
          "metadata": {},
          "execution_count": 10
        }
      ]
    },
    {
      "cell_type": "markdown",
      "source": [
        "# Dataset of highest grossing hollywood films\n",
        "\n",
        "\n",
        "\n",
        "1.   Title : Title of the Movie\n",
        "2.   Movie Info: A short description about the movie\n",
        "3.   Distributor: Production Company\n",
        "4.   Release data: Date of release of the movie\n",
        "5.   Domestic Sales: Amount earned Domestic\n",
        "6.   International Sales: Amount earned within the country\n",
        "7.   World Sales: Amount earned Worldwide\n",
        "8.   Genre: Genre of the Movie (ie.Romance,Thriller,Comedy etc...)\n",
        "9.   Movie runtime: Runtime of movie(in hrs)\n",
        "\n"
      ],
      "metadata": {
        "id": "xAqtob_jRVpe"
      }
    },
    {
      "cell_type": "code",
      "source": [
        "x.columns"
      ],
      "metadata": {
        "colab": {
          "base_uri": "https://localhost:8080/"
        },
        "id": "e5EFQuDsT1hk",
        "outputId": "12add021-0353-4435-a08f-54909f443e86"
      },
      "execution_count": null,
      "outputs": [
        {
          "output_type": "execute_result",
          "data": {
            "text/plain": [
              "Index(['Title', 'Movie Info', 'Distributor', 'Release Date',\n",
              "       'Domestic Sales (in $)', 'International Sales (in $)',\n",
              "       'World Sales (in $)', 'Genre', 'Movie Runtime', 'License'],\n",
              "      dtype='object')"
            ]
          },
          "metadata": {},
          "execution_count": 11
        }
      ]
    },
    {
      "cell_type": "code",
      "source": [
        "x.info()"
      ],
      "metadata": {
        "colab": {
          "base_uri": "https://localhost:8080/"
        },
        "id": "fSEpubUAYiQz",
        "outputId": "6ed09470-02e1-49c3-fa62-29d385b545a3"
      },
      "execution_count": null,
      "outputs": [
        {
          "output_type": "stream",
          "name": "stdout",
          "text": [
            "<class 'pandas.core.frame.DataFrame'>\n",
            "Int64Index: 744 entries, 0 to 917\n",
            "Data columns (total 10 columns):\n",
            " #   Column                      Non-Null Count  Dtype \n",
            "---  ------                      --------------  ----- \n",
            " 0   Title                       744 non-null    object\n",
            " 1   Movie Info                  744 non-null    object\n",
            " 2   Distributor                 744 non-null    object\n",
            " 3   Release Date                744 non-null    object\n",
            " 4   Domestic Sales (in $)       744 non-null    int64 \n",
            " 5   International Sales (in $)  744 non-null    int64 \n",
            " 6   World Sales (in $)          744 non-null    int64 \n",
            " 7   Genre                       744 non-null    object\n",
            " 8   Movie Runtime               744 non-null    object\n",
            " 9   License                     744 non-null    object\n",
            "dtypes: int64(3), object(7)\n",
            "memory usage: 80.1+ KB\n"
          ]
        }
      ]
    },
    {
      "cell_type": "code",
      "source": [
        "x.describe()"
      ],
      "metadata": {
        "colab": {
          "base_uri": "https://localhost:8080/",
          "height": 300
        },
        "id": "3Ycm43xHZQu_",
        "outputId": "e955172b-a6b2-4425-861d-a2816e9180c9"
      },
      "execution_count": null,
      "outputs": [
        {
          "output_type": "execute_result",
          "data": {
            "text/plain": [
              "       Domestic Sales (in $)  International Sales (in $)  World Sales (in $)\n",
              "count           7.440000e+02                7.440000e+02        7.440000e+02\n",
              "mean            1.694114e+08                2.363089e+08        4.058912e+08\n",
              "std             1.036400e+08                2.196304e+08        3.090299e+08\n",
              "min             8.036084e+07                2.450488e+06        8.260470e+07\n",
              "25%             1.025566e+08                9.461229e+07        2.072391e+08\n",
              "50%             1.335234e+08                1.713009e+08        3.121565e+08\n",
              "75%             1.951144e+08                3.023260e+08        4.874291e+08\n",
              "max             9.366622e+08                2.086739e+09        2.847246e+09"
            ],
            "text/html": [
              "\n",
              "  <div id=\"df-012f6a4d-7fd2-4342-858c-2cc3532f3391\">\n",
              "    <div class=\"colab-df-container\">\n",
              "      <div>\n",
              "<style scoped>\n",
              "    .dataframe tbody tr th:only-of-type {\n",
              "        vertical-align: middle;\n",
              "    }\n",
              "\n",
              "    .dataframe tbody tr th {\n",
              "        vertical-align: top;\n",
              "    }\n",
              "\n",
              "    .dataframe thead th {\n",
              "        text-align: right;\n",
              "    }\n",
              "</style>\n",
              "<table border=\"1\" class=\"dataframe\">\n",
              "  <thead>\n",
              "    <tr style=\"text-align: right;\">\n",
              "      <th></th>\n",
              "      <th>Domestic Sales (in $)</th>\n",
              "      <th>International Sales (in $)</th>\n",
              "      <th>World Sales (in $)</th>\n",
              "    </tr>\n",
              "  </thead>\n",
              "  <tbody>\n",
              "    <tr>\n",
              "      <th>count</th>\n",
              "      <td>7.440000e+02</td>\n",
              "      <td>7.440000e+02</td>\n",
              "      <td>7.440000e+02</td>\n",
              "    </tr>\n",
              "    <tr>\n",
              "      <th>mean</th>\n",
              "      <td>1.694114e+08</td>\n",
              "      <td>2.363089e+08</td>\n",
              "      <td>4.058912e+08</td>\n",
              "    </tr>\n",
              "    <tr>\n",
              "      <th>std</th>\n",
              "      <td>1.036400e+08</td>\n",
              "      <td>2.196304e+08</td>\n",
              "      <td>3.090299e+08</td>\n",
              "    </tr>\n",
              "    <tr>\n",
              "      <th>min</th>\n",
              "      <td>8.036084e+07</td>\n",
              "      <td>2.450488e+06</td>\n",
              "      <td>8.260470e+07</td>\n",
              "    </tr>\n",
              "    <tr>\n",
              "      <th>25%</th>\n",
              "      <td>1.025566e+08</td>\n",
              "      <td>9.461229e+07</td>\n",
              "      <td>2.072391e+08</td>\n",
              "    </tr>\n",
              "    <tr>\n",
              "      <th>50%</th>\n",
              "      <td>1.335234e+08</td>\n",
              "      <td>1.713009e+08</td>\n",
              "      <td>3.121565e+08</td>\n",
              "    </tr>\n",
              "    <tr>\n",
              "      <th>75%</th>\n",
              "      <td>1.951144e+08</td>\n",
              "      <td>3.023260e+08</td>\n",
              "      <td>4.874291e+08</td>\n",
              "    </tr>\n",
              "    <tr>\n",
              "      <th>max</th>\n",
              "      <td>9.366622e+08</td>\n",
              "      <td>2.086739e+09</td>\n",
              "      <td>2.847246e+09</td>\n",
              "    </tr>\n",
              "  </tbody>\n",
              "</table>\n",
              "</div>\n",
              "      <button class=\"colab-df-convert\" onclick=\"convertToInteractive('df-012f6a4d-7fd2-4342-858c-2cc3532f3391')\"\n",
              "              title=\"Convert this dataframe to an interactive table.\"\n",
              "              style=\"display:none;\">\n",
              "        \n",
              "  <svg xmlns=\"http://www.w3.org/2000/svg\" height=\"24px\"viewBox=\"0 0 24 24\"\n",
              "       width=\"24px\">\n",
              "    <path d=\"M0 0h24v24H0V0z\" fill=\"none\"/>\n",
              "    <path d=\"M18.56 5.44l.94 2.06.94-2.06 2.06-.94-2.06-.94-.94-2.06-.94 2.06-2.06.94zm-11 1L8.5 8.5l.94-2.06 2.06-.94-2.06-.94L8.5 2.5l-.94 2.06-2.06.94zm10 10l.94 2.06.94-2.06 2.06-.94-2.06-.94-.94-2.06-.94 2.06-2.06.94z\"/><path d=\"M17.41 7.96l-1.37-1.37c-.4-.4-.92-.59-1.43-.59-.52 0-1.04.2-1.43.59L10.3 9.45l-7.72 7.72c-.78.78-.78 2.05 0 2.83L4 21.41c.39.39.9.59 1.41.59.51 0 1.02-.2 1.41-.59l7.78-7.78 2.81-2.81c.8-.78.8-2.07 0-2.86zM5.41 20L4 18.59l7.72-7.72 1.47 1.35L5.41 20z\"/>\n",
              "  </svg>\n",
              "      </button>\n",
              "      \n",
              "  <style>\n",
              "    .colab-df-container {\n",
              "      display:flex;\n",
              "      flex-wrap:wrap;\n",
              "      gap: 12px;\n",
              "    }\n",
              "\n",
              "    .colab-df-convert {\n",
              "      background-color: #E8F0FE;\n",
              "      border: none;\n",
              "      border-radius: 50%;\n",
              "      cursor: pointer;\n",
              "      display: none;\n",
              "      fill: #1967D2;\n",
              "      height: 32px;\n",
              "      padding: 0 0 0 0;\n",
              "      width: 32px;\n",
              "    }\n",
              "\n",
              "    .colab-df-convert:hover {\n",
              "      background-color: #E2EBFA;\n",
              "      box-shadow: 0px 1px 2px rgba(60, 64, 67, 0.3), 0px 1px 3px 1px rgba(60, 64, 67, 0.15);\n",
              "      fill: #174EA6;\n",
              "    }\n",
              "\n",
              "    [theme=dark] .colab-df-convert {\n",
              "      background-color: #3B4455;\n",
              "      fill: #D2E3FC;\n",
              "    }\n",
              "\n",
              "    [theme=dark] .colab-df-convert:hover {\n",
              "      background-color: #434B5C;\n",
              "      box-shadow: 0px 1px 3px 1px rgba(0, 0, 0, 0.15);\n",
              "      filter: drop-shadow(0px 1px 2px rgba(0, 0, 0, 0.3));\n",
              "      fill: #FFFFFF;\n",
              "    }\n",
              "  </style>\n",
              "\n",
              "      <script>\n",
              "        const buttonEl =\n",
              "          document.querySelector('#df-012f6a4d-7fd2-4342-858c-2cc3532f3391 button.colab-df-convert');\n",
              "        buttonEl.style.display =\n",
              "          google.colab.kernel.accessAllowed ? 'block' : 'none';\n",
              "\n",
              "        async function convertToInteractive(key) {\n",
              "          const element = document.querySelector('#df-012f6a4d-7fd2-4342-858c-2cc3532f3391');\n",
              "          const dataTable =\n",
              "            await google.colab.kernel.invokeFunction('convertToInteractive',\n",
              "                                                     [key], {});\n",
              "          if (!dataTable) return;\n",
              "\n",
              "          const docLinkHtml = 'Like what you see? Visit the ' +\n",
              "            '<a target=\"_blank\" href=https://colab.research.google.com/notebooks/data_table.ipynb>data table notebook</a>'\n",
              "            + ' to learn more about interactive tables.';\n",
              "          element.innerHTML = '';\n",
              "          dataTable['output_type'] = 'display_data';\n",
              "          await google.colab.output.renderOutput(dataTable, element);\n",
              "          const docLink = document.createElement('div');\n",
              "          docLink.innerHTML = docLinkHtml;\n",
              "          element.appendChild(docLink);\n",
              "        }\n",
              "      </script>\n",
              "    </div>\n",
              "  </div>\n",
              "  "
            ]
          },
          "metadata": {},
          "execution_count": 13
        }
      ]
    },
    {
      "cell_type": "code",
      "source": [
        "x.isnull().sum()"
      ],
      "metadata": {
        "colab": {
          "base_uri": "https://localhost:8080/"
        },
        "id": "P-6gyw6OZUMS",
        "outputId": "67184833-7f6c-48ac-b3b2-75050871057f"
      },
      "execution_count": null,
      "outputs": [
        {
          "output_type": "execute_result",
          "data": {
            "text/plain": [
              "Title                         0\n",
              "Movie Info                    0\n",
              "Distributor                   0\n",
              "Release Date                  0\n",
              "Domestic Sales (in $)         0\n",
              "International Sales (in $)    0\n",
              "World Sales (in $)            0\n",
              "Genre                         0\n",
              "Movie Runtime                 0\n",
              "License                       0\n",
              "dtype: int64"
            ]
          },
          "metadata": {},
          "execution_count": 14
        }
      ]
    },
    {
      "cell_type": "code",
      "source": [
        "plt.scatter(x['Domestic Sales (in $)'],x['International Sales (in $)'],c='red')\n",
        "plt.title('Scatter plot')\n",
        "plt.xlabel('Domestic Sales')\n",
        "plt.ylabel('International Sales') \n",
        "plt.show()"
      ],
      "metadata": {
        "colab": {
          "base_uri": "https://localhost:8080/",
          "height": 295
        },
        "id": "hwVy3NIIZbnK",
        "outputId": "fa9679d3-48eb-4e64-93b5-d6587f05c91f"
      },
      "execution_count": null,
      "outputs": [
        {
          "output_type": "display_data",
          "data": {
            "text/plain": [
              "<Figure size 432x288 with 1 Axes>"
            ],
            "image/png": "[encoded data removed]"
          },
          "metadata": {
            "needs_background": "light"
          }
        }
      ]
    },
    {
      "cell_type": "code",
      "source": [
        "plt.hist(x['International Sales (in $)'], color='violet', edgecolor='white', bins=3)\n",
        "plt.title('Histogram')\n",
        "plt.xlabel('International Sales (in $)')\n",
        "plt.legend()\n",
        "plt.show()"
      ],
      "metadata": {
        "colab": {
          "base_uri": "https://localhost:8080/",
          "height": 312
        },
        "id": "9OmdfGtgaCw4",
        "outputId": "730ca1d2-e6f1-4016-cc68-957da71dea95"
      },
      "execution_count": null,
      "outputs": [
        {
          "output_type": "stream",
          "name": "stderr",
          "text": [
            "WARNING:matplotlib.legend:No handles with labels found to put in legend.\n"
          ]
        },
        {
          "output_type": "display_data",
          "data": {
            "text/plain": [
              "<Figure size 432x288 with 1 Axes>"
            ],
            "image/png": "[encoded data removed]"
          },
          "metadata": {
            "needs_background": "light"
          }
        }
      ]
    },
    {
      "cell_type": "code",
      "source": [
        "print(x[''].value_counts())"
      ],
      "metadata": {
        "colab": {
          "base_uri": "https://localhost:8080/"
        },
        "id": "Q3qgV0dWbQRy",
        "outputId": "d391c9c1-81fe-42b9-a912-25bc17e8e331"
      },
      "execution_count": null,
      "outputs": [
        {
          "output_type": "stream",
          "name": "stdout",
          "text": [
            "1 hr 55 min    21\n",
            "1 hr 46 min    19\n",
            "1 hr 35 min    18\n",
            "1 hr 56 min    18\n",
            "1 hr 32 min    17\n",
            "               ..\n",
            "2 hr 59 min     1\n",
            "3 hr 21 min     1\n",
            "3 hr 1 min      1\n",
            "2 hr 58 min     1\n",
            "3 hr 15 min     1\n",
            "Name: Movie Runtime, Length: 97, dtype: int64\n"
          ]
        }
      ]
    },
    {
      "cell_type": "code",
      "source": [
        "import seaborn as sns"
      ],
      "metadata": {
        "id": "ljCFvHwVcviy"
      },
      "execution_count": null,
      "outputs": []
    },
    {
      "cell_type": "code",
      "source": [
        "sns.countplot(x='',data=x).set(title='Bar Plot')"
      ],
      "metadata": {
        "colab": {
          "base_uri": "https://localhost:8080/",
          "height": 312
        },
        "id": "dEUCqOTbdIIL",
        "outputId": "9110948b-3602-454b-de3b-8b63d687b6eb"
      },
      "execution_count": null,
      "outputs": [
        {
          "output_type": "execute_result",
          "data": {
            "text/plain": [
              "[Text(0.5, 1.0, 'Bar Plot')]"
            ]
          },
          "metadata": {},
          "execution_count": 24
        },
        {
          "output_type": "display_data",
          "data": {
            "text/plain": [
              "<Figure size 432x288 with 1 Axes>"
            ],
            "image/png": "[encoded data removed]"
          },
          "metadata": {
            "needs_background": "light"
          }
        }
      ]
    },
    {
      "cell_type": "code",
      "source": [
        "g=sns.pairplot(x,kind='scatter')\n",
        "g.fig.suptitle(\"Pair Plot\")\n",
        "plt.show()"
      ],
      "metadata": {
        "colab": {
          "base_uri": "https://localhost:8080/",
          "height": 550
        },
        "id": "rdw3nc3udv5i",
        "outputId": "41897a17-b722-4a8a-cc30-4a3814857b6c"
      },
      "execution_count": null,
      "outputs": [
        {
          "output_type": "display_data",
          "data": {
            "text/plain": [
              "<Figure size 540x540 with 12 Axes>"
            ],
            "image/png": "[encoded data removed]"
          },
          "metadata": {
            "needs_background": "light"
          }
        }
      ]
    },
    {
      "cell_type": "code",
      "source": [
        "y=x.corr()\n",
        "print(y)\n",
        "plt.figure(figsize = (12,10))\n",
        "heat_map = sns.heatmap(y, annot=True, cmap='PiYG',\n",
        "                       cbar_kws={\"orientation\": \"horizontal\"}).set(title='Correlation Heat Map')"
      ],
      "metadata": {
        "colab": {
          "base_uri": "https://localhost:8080/",
          "height": 715
        },
        "id": "ywbscRgOd7J9",
        "outputId": "15e67404-9ec8-410a-dbcd-6c73122b4380"
      },
      "execution_count": null,
      "outputs": [
        {
          "output_type": "stream",
          "name": "stdout",
          "text": [
            "                            Domestic Sales (in $)  International Sales (in $)  \\\n",
            "Domestic Sales (in $)                    1.000000                    0.795971   \n",
            "International Sales (in $)               0.795971                    1.000000   \n",
            "World Sales (in $)                       0.904120                    0.977893   \n",
            "\n",
            "                            World Sales (in $)  \n",
            "Domestic Sales (in $)                 0.904120  \n",
            "International Sales (in $)            0.977893  \n",
            "World Sales (in $)                    1.000000  \n"
          ]
        },
        {
          "output_type": "display_data",
          "data": {
            "text/plain": [
              "<Figure size 864x720 with 2 Axes>"
            ],
            "image/png": "[encoded data removed]"
          },
          "metadata": {
            "needs_background": "light"
          }
        }
      ]
    },
    {
      "cell_type": "code",
      "source": [
        "x.quantile()"
      ],
      "metadata": {
        "colab": {
          "base_uri": "https://localhost:8080/"
        },
        "id": "mBYftX27uHJj",
        "outputId": "77072334-434f-45a6-8603-de08484ee233"
      },
      "execution_count": null,
      "outputs": [
        {
          "output_type": "execute_result",
          "data": {
            "text/plain": [
              "Domestic Sales (in $)         133523390.5\n",
              "International Sales (in $)    171300935.0\n",
              "World Sales (in $)            312156492.0\n",
              "Name: 0.5, dtype: float64"
            ]
          },
          "metadata": {},
          "execution_count": 26
        }
      ]
    },
    {
      "cell_type": "code",
      "source": [
        "corr=x.corr()\n",
        "print(corr)"
      ],
      "metadata": {
        "colab": {
          "base_uri": "https://localhost:8080/"
        },
        "id": "9hGl3LCouLHQ",
        "outputId": "aa0b6837-e8cc-44f7-8fc8-82ef30451604"
      },
      "execution_count": null,
      "outputs": [
        {
          "output_type": "stream",
          "name": "stdout",
          "text": [
            "                            Domestic Sales (in $)  International Sales (in $)  \\\n",
            "Domestic Sales (in $)                    1.000000                    0.795971   \n",
            "International Sales (in $)               0.795971                    1.000000   \n",
            "World Sales (in $)                       0.904120                    0.977893   \n",
            "\n",
            "                            World Sales (in $)  \n",
            "Domestic Sales (in $)                 0.904120  \n",
            "International Sales (in $)            0.977893  \n",
            "World Sales (in $)                    1.000000  \n"
          ]
        }
      ]
    }
  ]
}